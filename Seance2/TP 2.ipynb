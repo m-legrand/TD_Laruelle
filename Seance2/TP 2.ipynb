{
 "cells": [
  {
   "cell_type": "markdown",
   "metadata": {},
   "source": [
    "# TP 2 : Indicateurs Intraday"
   ]
  },
  {
   "cell_type": "markdown",
   "metadata": {},
   "source": [
    "Le but de ce TP est de se failiariser avec `pandas` et les bases de données et de construire les courbes intraday de certains indicateurs de marché tels que le volumes, le nombre de trades, le prix, la volatilité, le spread, l'imbalance ou encore la liquidité disponible au meilleures limites (best bid et best ask)."
   ]
  },
  {
   "cell_type": "markdown",
   "metadata": {},
   "source": [
    "## I. Importation des modules nécessaires"
   ]
  },
  {
   "cell_type": "code",
   "execution_count": 36,
   "metadata": {
    "collapsed": false
   },
   "outputs": [],
   "source": [
    "import numpy as np\n",
    "import pandas as pd\n",
    "%matplotlib inline \n",
    "import matplotlib.pylab as plt\n",
    "from datetime import datetime"
   ]
  },
  {
   "cell_type": "markdown",
   "metadata": {},
   "source": [
    "## II. Importation et lecture des données"
   ]
  },
  {
   "cell_type": "markdown",
   "metadata": {},
   "source": [
    "Pour importer un fichier"
   ]
  },
  {
   "cell_type": "code",
   "execution_count": 37,
   "metadata": {
    "collapsed": false
   },
   "outputs": [],
   "source": [
    "df_trades1  = pd.read_pickle('./data_trades/strades_info_720.h5')"
   ]
  },
  {
   "cell_type": "markdown",
   "metadata": {},
   "source": [
    "Afficher uniquement le début (5 premières lignes)"
   ]
  },
  {
   "cell_type": "code",
   "execution_count": 38,
   "metadata": {
    "collapsed": false
   },
   "outputs": [
    {
     "data": {
      "text/html": [
       "<div>\n",
       "<table border=\"1\" class=\"dataframe\">\n",
       "  <thead>\n",
       "    <tr style=\"text-align: right;\">\n",
       "      <th></th>\n",
       "      <th>provider</th>\n",
       "      <th>source</th>\n",
       "      <th>ts_market</th>\n",
       "      <th>qty</th>\n",
       "      <th>price</th>\n",
       "      <th>side</th>\n",
       "      <th>type</th>\n",
       "      <th>volume</th>\n",
       "      <th>bid_size</th>\n",
       "      <th>bid</th>\n",
       "      <th>ask</th>\n",
       "      <th>ask_size</th>\n",
       "      <th>cmp_name</th>\n",
       "    </tr>\n",
       "  </thead>\n",
       "  <tbody>\n",
       "    <tr>\n",
       "      <th>0</th>\n",
       "      <td>NOMURA</td>\n",
       "      <td>CHIX</td>\n",
       "      <td>2014-10-28</td>\n",
       "      <td>0</td>\n",
       "      <td>0</td>\n",
       "      <td>?</td>\n",
       "      <td></td>\n",
       "      <td>0</td>\n",
       "      <td>0</td>\n",
       "      <td>0</td>\n",
       "      <td>0</td>\n",
       "      <td>0</td>\n",
       "      <td>Vodafone Group PLC</td>\n",
       "    </tr>\n",
       "    <tr>\n",
       "      <th>1</th>\n",
       "      <td>NOMURA</td>\n",
       "      <td>TURQUOISE</td>\n",
       "      <td>2014-10-28</td>\n",
       "      <td>0</td>\n",
       "      <td>0</td>\n",
       "      <td>?</td>\n",
       "      <td></td>\n",
       "      <td>0</td>\n",
       "      <td>0</td>\n",
       "      <td>0</td>\n",
       "      <td>0</td>\n",
       "      <td>0</td>\n",
       "      <td>Vodafone Group PLC</td>\n",
       "    </tr>\n",
       "    <tr>\n",
       "      <th>2</th>\n",
       "      <td>NOMURA</td>\n",
       "      <td>BATS.EUROPE</td>\n",
       "      <td>2014-10-28</td>\n",
       "      <td>0</td>\n",
       "      <td>0</td>\n",
       "      <td>?</td>\n",
       "      <td></td>\n",
       "      <td>0</td>\n",
       "      <td>0</td>\n",
       "      <td>0</td>\n",
       "      <td>0</td>\n",
       "      <td>0</td>\n",
       "      <td>Vodafone Group PLC</td>\n",
       "    </tr>\n",
       "  </tbody>\n",
       "</table>\n",
       "</div>"
      ],
      "text/plain": [
       "  provider       source  ts_market  qty  price side type  volume  bid_size  \\\n",
       "0   NOMURA         CHIX 2014-10-28    0      0    ?            0         0   \n",
       "1   NOMURA    TURQUOISE 2014-10-28    0      0    ?            0         0   \n",
       "2   NOMURA  BATS.EUROPE 2014-10-28    0      0    ?            0         0   \n",
       "\n",
       "   bid  ask  ask_size            cmp_name  \n",
       "0    0    0         0  Vodafone Group PLC  \n",
       "1    0    0         0  Vodafone Group PLC  \n",
       "2    0    0         0  Vodafone Group PLC  "
      ]
     },
     "execution_count": 38,
     "metadata": {},
     "output_type": "execute_result"
    }
   ],
   "source": [
    "df_trades1.head(3)"
   ]
  },
  {
   "cell_type": "markdown",
   "metadata": {},
   "source": [
    "Afficher les 5 dernières lignes"
   ]
  },
  {
   "cell_type": "markdown",
   "metadata": {},
   "source": [
    "On distingue donc différentes colonnes\n",
    "* la première est l'index, ici le nombre de lignes ;\n",
    "\n",
    "\n",
    "\n",
    "* _provider_ est le fournisseur des données ; \n",
    "\n",
    "\n",
    "\n",
    "* _source_ est le nom de l'exchange ;\n",
    "\n",
    "\n",
    "\n",
    "* _ts market_ est le timestamp du trade ;\n",
    "\n",
    "\n",
    "\n",
    "* _qty_ est le volume du trade ;\n",
    "\n",
    "\n",
    "\n",
    "* _price_ est le prix du trade ;\n",
    "\n",
    "\n",
    "\n",
    "* _side_ représente le sens ou signe du trade (B=Bid et A=Ask) ;\n",
    "\n",
    "\n",
    "\n",
    "* _type_ est le type d'ordre ;\n",
    "\n",
    "\n",
    "\n",
    "* _volume_ est le volume cumulé depuis le début de la journée ;\n",
    "\n",
    "\n",
    "\n",
    "* _bid size_ est la taille du best bid ;\n",
    "\n",
    "\n",
    "\n",
    "* _ask size_ est la taille du best ask ;\n",
    "\n",
    "\n",
    "\n",
    "* _bid_ est le prix du best bid ;\n",
    "\n",
    "\n",
    "\n",
    "* _ask_ est le prix du best ask ;\n",
    "\n",
    "\n",
    "\n",
    "* _cmp name_ est le nom de l'action."
   ]
  },
  {
   "cell_type": "markdown",
   "metadata": {},
   "source": [
    "Importations des autres données"
   ]
  },
  {
   "cell_type": "code",
   "execution_count": 39,
   "metadata": {
    "collapsed": false
   },
   "outputs": [],
   "source": [
    "df_trades2  = pd.read_pickle('./data_trades/strades_info_1102.h5')"
   ]
  },
  {
   "cell_type": "code",
   "execution_count": 40,
   "metadata": {
    "collapsed": false
   },
   "outputs": [],
   "source": [
    "df_trades3  = pd.read_pickle('./data_trades/strades_info_1662.h5')"
   ]
  },
  {
   "cell_type": "code",
   "execution_count": 41,
   "metadata": {
    "collapsed": false
   },
   "outputs": [],
   "source": [
    "df_trades4  = pd.read_pickle('./data_trades/strades_info_1664.h5')"
   ]
  },
  {
   "cell_type": "code",
   "execution_count": 42,
   "metadata": {
    "collapsed": false
   },
   "outputs": [],
   "source": [
    "df_trades5  = pd.read_pickle('./data_trades/strades_info_2255.h5')"
   ]
  },
  {
   "cell_type": "code",
   "execution_count": 43,
   "metadata": {
    "collapsed": false
   },
   "outputs": [],
   "source": [
    "df_trades6  = pd.read_pickle('./data_trades/strades_info_2574.h5')"
   ]
  },
  {
   "cell_type": "code",
   "execution_count": 44,
   "metadata": {
    "collapsed": false
   },
   "outputs": [],
   "source": [
    "df_trades7  = pd.read_pickle('./data_trades/strades_info_2586.h5')"
   ]
  },
  {
   "cell_type": "code",
   "execution_count": 45,
   "metadata": {
    "collapsed": false
   },
   "outputs": [],
   "source": [
    "df_trades8  = pd.read_pickle('./data_trades/strades_info_5685.h5')"
   ]
  },
  {
   "cell_type": "code",
   "execution_count": 46,
   "metadata": {
    "collapsed": false
   },
   "outputs": [],
   "source": [
    "df_trades9  = pd.read_pickle('./data_trades/strades_info_8695864.h5')"
   ]
  },
  {
   "cell_type": "markdown",
   "metadata": {},
   "source": [
    "## II. Nettoyer les données"
   ]
  },
  {
   "cell_type": "markdown",
   "metadata": {},
   "source": [
    "Si vous regardez attentivement la base de données chargée, vous verrez qu'il y a un certain nombre de donnée qui posent problèmes. On distingue notamment\n",
    "\n",
    "* des volumes nuls ;\n",
    "\n",
    "\n",
    "* des prix ou quantités au best bid ou au best ask nuls ;\n",
    "\n",
    "\n",
    "* des prix ou quantités au best bid ou au best ask de 999999 ;\n",
    "\n",
    "\n",
    "* des sens de trades différents de Bid ou Ask  (U notamment) ;\n",
    "\n",
    "\n",
    "* des trades en dehors des heures d'ouverture de l'exchange."
   ]
  },
  {
   "cell_type": "code",
   "execution_count": 47,
   "metadata": {
    "collapsed": false
   },
   "outputs": [],
   "source": [
    "df_trades1 = df_trades1[df_trades1['qty']!=0]\n",
    "df_trades1 = df_trades1[df_trades1['volume']!=0]\n",
    "df_trades1 = df_trades1[df_trades1['bid']<df_trades1['ask']]\n",
    "df_trades1 = df_trades1[df_trades1['bid']!=0]\n",
    "df_trades1 = df_trades1[df_trades1['bid']!=999999]\n",
    "df_trades1 = df_trades1[df_trades1['ask']!=0]\n",
    "df_trades1 = df_trades1[df_trades1['ask']!=999999]\n",
    "df_trades1 = df_trades1[df_trades1['side']!='U']\n",
    "df_trades1 = df_trades1[df_trades1['ts_market']>datetime(2014, 10, 28, 8, 0)]\n",
    "df_trades1 = df_trades1[df_trades1['ts_market']<datetime(2014, 10, 28, 16, 30)]"
   ]
  },
  {
   "cell_type": "code",
   "execution_count": 48,
   "metadata": {
    "collapsed": false
   },
   "outputs": [],
   "source": [
    "df_trades2 = df_trades2[df_trades2['qty']!=0]\n",
    "df_trades2 = df_trades2[df_trades2['volume']!=0]\n",
    "df_trades2 = df_trades2[df_trades2['bid']<df_trades2['ask']]\n",
    "df_trades2 = df_trades2[df_trades2['bid']!=0]\n",
    "df_trades2 = df_trades2[df_trades2['bid']!=999999]\n",
    "df_trades2 = df_trades2[df_trades2['ask']!=0]\n",
    "df_trades2 = df_trades2[df_trades2['ask']!=999999]\n",
    "df_trades2 = df_trades2[df_trades2['side']!='U']\n",
    "df_trades2 = df_trades2[df_trades2['ts_market']>datetime(2014, 10, 22, 7, 0)]\n",
    "df_trades2 = df_trades2[df_trades2['ts_market']<datetime(2014, 10, 22, 15, 30)]"
   ]
  },
  {
   "cell_type": "code",
   "execution_count": 49,
   "metadata": {
    "collapsed": false
   },
   "outputs": [],
   "source": [
    "df_trades3 = df_trades3[df_trades3['qty']!=0]\n",
    "df_trades3 = df_trades3[df_trades3['volume']!=0]\n",
    "df_trades3 = df_trades3[df_trades3['bid']<df_trades3['ask']]\n",
    "df_trades3 = df_trades3[df_trades3['bid']!=0]\n",
    "df_trades3 = df_trades3[df_trades3['bid']!=999999]\n",
    "df_trades3 = df_trades3[df_trades3['ask']!=0]\n",
    "df_trades3 = df_trades3[df_trades3['ask']!=999999]\n",
    "df_trades3 = df_trades3[df_trades3['side']!='U']\n",
    "df_trades3 = df_trades3[df_trades3['ts_market']>datetime(2014, 11, 21, 8, 0)]\n",
    "df_trades3 = df_trades3[df_trades3['ts_market']<datetime(2014, 11, 21, 16, 30)]"
   ]
  },
  {
   "cell_type": "code",
   "execution_count": 50,
   "metadata": {
    "collapsed": false
   },
   "outputs": [],
   "source": [
    "df_trades4 = df_trades4[df_trades4['qty']!=0]\n",
    "df_trades4 = df_trades4[df_trades4['volume']!=0]\n",
    "df_trades4 = df_trades4[df_trades4['bid']<df_trades4['ask']]\n",
    "df_trades4 = df_trades4[df_trades4['bid']!=0]\n",
    "df_trades4 = df_trades4[df_trades4['bid']!=999999]\n",
    "df_trades4 = df_trades4[df_trades4['ask']!=0]\n",
    "df_trades4 = df_trades4[df_trades4['ask']!=999999]\n",
    "df_trades4 = df_trades4[df_trades4['side']!='U']\n",
    "df_trades4 = df_trades4[df_trades4['ts_market']>datetime(2014, 10, 31, 8, 0)]\n",
    "df_trades4 = df_trades4[df_trades4['ts_market']<datetime(2014, 10, 31, 16, 30)]"
   ]
  },
  {
   "cell_type": "code",
   "execution_count": 51,
   "metadata": {
    "collapsed": false
   },
   "outputs": [],
   "source": [
    "df_trades5 = df_trades5[df_trades5['qty']!=0]\n",
    "df_trades5 = df_trades5[df_trades5['volume']!=0]\n",
    "df_trades5 = df_trades5[df_trades5['bid']<df_trades5['ask']]\n",
    "df_trades5 = df_trades5[df_trades5['bid']!=0]\n",
    "df_trades5 = df_trades5[df_trades5['bid']!=999999]\n",
    "df_trades5 = df_trades5[df_trades5['ask']!=0]\n",
    "df_trades5 = df_trades5[df_trades5['ask']!=999999]\n",
    "df_trades5 = df_trades5[df_trades5['side']!='U']\n",
    "df_trades5 = df_trades5[df_trades5['ts_market']>datetime(2014, 11, 24, 8, 0)]\n",
    "df_trades5 = df_trades5[df_trades5['ts_market']<datetime(2014, 11, 24, 16, 30)]"
   ]
  },
  {
   "cell_type": "code",
   "execution_count": 52,
   "metadata": {
    "collapsed": false
   },
   "outputs": [],
   "source": [
    "df_trades6 = df_trades6[df_trades6['qty']!=0]\n",
    "df_trades6 = df_trades6[df_trades6['volume']!=0]\n",
    "df_trades6 = df_trades6[df_trades6['bid']<df_trades6['ask']]\n",
    "df_trades6 = df_trades6[df_trades6['bid']!=0]\n",
    "df_trades6 = df_trades6[df_trades6['bid']!=999999]\n",
    "df_trades6 = df_trades6[df_trades6['ask']!=0]\n",
    "df_trades6 = df_trades6[df_trades6['ask']!=999999]\n",
    "df_trades6 = df_trades6[df_trades6['side']!='U']\n",
    "df_trades6 = df_trades6[df_trades6['ts_market']>datetime(2014, 11, 13, 8, 0)]\n",
    "df_trades6 = df_trades6[df_trades6['ts_market']<datetime(2014, 11, 13, 16, 30)]"
   ]
  },
  {
   "cell_type": "code",
   "execution_count": 53,
   "metadata": {
    "collapsed": false
   },
   "outputs": [],
   "source": [
    "df_trades7 = df_trades7[df_trades7['qty']!=0]\n",
    "df_trades7 = df_trades7[df_trades7['volume']!=0]\n",
    "df_trades7 = df_trades7[df_trades7['bid']<df_trades7['ask']]\n",
    "df_trades7 = df_trades7[df_trades7['bid']!=0]\n",
    "df_trades7 = df_trades7[df_trades7['bid']!=999999]\n",
    "df_trades7 = df_trades7[df_trades7['ask']!=0]\n",
    "df_trades7 = df_trades7[df_trades7['ask']!=999999]\n",
    "df_trades7 = df_trades7[df_trades7['side']!='U']\n",
    "df_trades7 = df_trades7[df_trades7['ts_market']>datetime(2014, 11, 3, 8, 0)]\n",
    "df_trades7 = df_trades7[df_trades7['ts_market']<datetime(2014, 11, 3, 16, 30)]"
   ]
  },
  {
   "cell_type": "code",
   "execution_count": 54,
   "metadata": {
    "collapsed": false
   },
   "outputs": [],
   "source": [
    "df_trades8 = df_trades8[df_trades8['qty']!=0]\n",
    "df_trades8 = df_trades8[df_trades8['volume']!=0]\n",
    "df_trades8 = df_trades8[df_trades8['bid']<df_trades8['ask']]\n",
    "df_trades8 = df_trades8[df_trades8['bid']!=0]\n",
    "df_trades8 = df_trades8[df_trades8['bid']!=999999]\n",
    "df_trades8 = df_trades8[df_trades8['ask']!=0]\n",
    "df_trades8 = df_trades8[df_trades8['ask']!=999999]\n",
    "df_trades8 = df_trades8[df_trades8['side']!='U']\n",
    "df_trades8 = df_trades8[df_trades8['ts_market']>datetime(2014, 11, 20, 8, 0)]\n",
    "df_trades8 = df_trades8[df_trades8['ts_market']<datetime(2014, 11, 20, 16, 30)]"
   ]
  },
  {
   "cell_type": "code",
   "execution_count": 55,
   "metadata": {
    "collapsed": false
   },
   "outputs": [],
   "source": [
    "df_trades9 = df_trades9[df_trades9['qty']!=0]\n",
    "df_trades9 = df_trades9[df_trades9['volume']!=0]\n",
    "df_trades9 = df_trades9[df_trades9['bid']<df_trades9['ask']]\n",
    "df_trades9 = df_trades9[df_trades9['bid']!=0]\n",
    "df_trades9 = df_trades9[df_trades9['bid']!=999999]\n",
    "df_trades9 = df_trades9[df_trades9['ask']!=0]\n",
    "df_trades9 = df_trades9[df_trades9['ask']!=999999]\n",
    "df_trades9 = df_trades9[df_trades9['side']!='U']\n",
    "df_trades9 = df_trades9[df_trades9['ts_market']>datetime(2014, 11, 17, 8, 0)]\n",
    "df_trades9 = df_trades9[df_trades9['ts_market']<datetime(2014, 11, 17, 16, 30)]"
   ]
  },
  {
   "cell_type": "code",
   "execution_count": 81,
   "metadata": {
    "collapsed": false
   },
   "outputs": [
    {
     "data": {
      "text/html": [
       "<div>\n",
       "<table border=\"1\" class=\"dataframe\">\n",
       "  <thead>\n",
       "    <tr style=\"text-align: right;\">\n",
       "      <th></th>\n",
       "      <th>provider</th>\n",
       "      <th>source</th>\n",
       "      <th>qty</th>\n",
       "      <th>price</th>\n",
       "      <th>side</th>\n",
       "      <th>type</th>\n",
       "      <th>volume</th>\n",
       "      <th>bid_size</th>\n",
       "      <th>bid</th>\n",
       "      <th>ask</th>\n",
       "      <th>ask_size</th>\n",
       "      <th>cmp_name</th>\n",
       "      <th>trades</th>\n",
       "    </tr>\n",
       "    <tr>\n",
       "      <th>ts_market</th>\n",
       "      <th></th>\n",
       "      <th></th>\n",
       "      <th></th>\n",
       "      <th></th>\n",
       "      <th></th>\n",
       "      <th></th>\n",
       "      <th></th>\n",
       "      <th></th>\n",
       "      <th></th>\n",
       "      <th></th>\n",
       "      <th></th>\n",
       "      <th></th>\n",
       "      <th></th>\n",
       "    </tr>\n",
       "  </thead>\n",
       "  <tbody>\n",
       "    <tr>\n",
       "      <th>2014-10-28 08:00:24.373</th>\n",
       "      <td>NOMURA</td>\n",
       "      <td>CHIX</td>\n",
       "      <td>5036</td>\n",
       "      <td>198.95</td>\n",
       "      <td>A</td>\n",
       "      <td>N</td>\n",
       "      <td>5036</td>\n",
       "      <td>1359</td>\n",
       "      <td>198.7</td>\n",
       "      <td>198.95</td>\n",
       "      <td>6844</td>\n",
       "      <td>Vodafone Group PLC</td>\n",
       "      <td>1</td>\n",
       "    </tr>\n",
       "  </tbody>\n",
       "</table>\n",
       "</div>"
      ],
      "text/plain": [
       "                        provider source   qty   price side type  volume  \\\n",
       "ts_market                                                                 \n",
       "2014-10-28 08:00:24.373   NOMURA   CHIX  5036  198.95    A    N    5036   \n",
       "\n",
       "                         bid_size    bid     ask  ask_size  \\\n",
       "ts_market                                                    \n",
       "2014-10-28 08:00:24.373      1359  198.7  198.95      6844   \n",
       "\n",
       "                                   cmp_name  trades  \n",
       "ts_market                                            \n",
       "2014-10-28 08:00:24.373  Vodafone Group PLC       1  "
      ]
     },
     "execution_count": 81,
     "metadata": {},
     "output_type": "execute_result"
    }
   ],
   "source": [
    "df_trades1.head(1)"
   ]
  },
  {
   "cell_type": "markdown",
   "metadata": {},
   "source": [
    "## III. Modification de la base de données"
   ]
  },
  {
   "cell_type": "markdown",
   "metadata": {},
   "source": [
    "### 1. Ajout de la colonne pour compter les trades"
   ]
  },
  {
   "cell_type": "code",
   "execution_count": 57,
   "metadata": {
    "collapsed": false
   },
   "outputs": [
    {
     "data": {
      "text/html": [
       "<div>\n",
       "<table border=\"1\" class=\"dataframe\">\n",
       "  <thead>\n",
       "    <tr style=\"text-align: right;\">\n",
       "      <th></th>\n",
       "      <th>provider</th>\n",
       "      <th>source</th>\n",
       "      <th>ts_market</th>\n",
       "      <th>qty</th>\n",
       "      <th>price</th>\n",
       "      <th>side</th>\n",
       "      <th>type</th>\n",
       "      <th>volume</th>\n",
       "      <th>bid_size</th>\n",
       "      <th>bid</th>\n",
       "      <th>ask</th>\n",
       "      <th>ask_size</th>\n",
       "      <th>cmp_name</th>\n",
       "      <th>trades</th>\n",
       "    </tr>\n",
       "  </thead>\n",
       "  <tbody>\n",
       "    <tr>\n",
       "      <th>17</th>\n",
       "      <td>NOMURA</td>\n",
       "      <td>CHIX</td>\n",
       "      <td>2014-10-28 08:00:24.373</td>\n",
       "      <td>5036</td>\n",
       "      <td>198.95</td>\n",
       "      <td>A</td>\n",
       "      <td>N</td>\n",
       "      <td>5036</td>\n",
       "      <td>1359</td>\n",
       "      <td>198.7</td>\n",
       "      <td>198.95</td>\n",
       "      <td>6844</td>\n",
       "      <td>Vodafone Group PLC</td>\n",
       "      <td>1</td>\n",
       "    </tr>\n",
       "  </tbody>\n",
       "</table>\n",
       "</div>"
      ],
      "text/plain": [
       "   provider source               ts_market   qty   price side type  volume  \\\n",
       "17   NOMURA   CHIX 2014-10-28 08:00:24.373  5036  198.95    A    N    5036   \n",
       "\n",
       "    bid_size    bid     ask  ask_size            cmp_name  trades  \n",
       "17      1359  198.7  198.95      6844  Vodafone Group PLC       1  "
      ]
     },
     "execution_count": 57,
     "metadata": {},
     "output_type": "execute_result"
    }
   ],
   "source": [
    "col = np.ones(len(df_trades1))\n",
    "df_trades1['trades'] = col\n",
    "df_trades1.head(1)"
   ]
  },
  {
   "cell_type": "code",
   "execution_count": 58,
   "metadata": {
    "collapsed": true
   },
   "outputs": [],
   "source": [
    "col = np.ones(len(df_trades2))\n",
    "df_trades2['trades'] = col\n",
    "col = np.ones(len(df_trades3))\n",
    "df_trades3['trades'] = col\n",
    "col = np.ones(len(df_trades4))\n",
    "df_trades4['trades'] = col\n",
    "col = np.ones(len(df_trades5))\n",
    "df_trades5['trades'] = col\n",
    "col = np.ones(len(df_trades6))\n",
    "df_trades6['trades'] = col\n",
    "col = np.ones(len(df_trades7))\n",
    "df_trades7['trades'] = col\n",
    "col = np.ones(len(df_trades8))\n",
    "df_trades8['trades'] = col\n",
    "col = np.ones(len(df_trades9))\n",
    "df_trades9['trades'] = col"
   ]
  },
  {
   "cell_type": "markdown",
   "metadata": {},
   "source": [
    "### 2. Réindexer la base de données par les temps"
   ]
  },
  {
   "cell_type": "code",
   "execution_count": 59,
   "metadata": {
    "collapsed": false
   },
   "outputs": [],
   "source": [
    "df_trades1 = df_trades1.set_index('ts_market')"
   ]
  },
  {
   "cell_type": "code",
   "execution_count": 60,
   "metadata": {
    "collapsed": true
   },
   "outputs": [],
   "source": [
    "df_trades2 = df_trades2.set_index('ts_market')\n",
    "df_trades3 = df_trades3.set_index('ts_market')\n",
    "df_trades4 = df_trades4.set_index('ts_market')\n",
    "df_trades5 = df_trades5.set_index('ts_market')\n",
    "df_trades6 = df_trades6.set_index('ts_market')\n",
    "df_trades7 = df_trades7.set_index('ts_market')\n",
    "df_trades8 = df_trades8.set_index('ts_market')\n",
    "df_trades9 = df_trades9.set_index('ts_market')"
   ]
  },
  {
   "cell_type": "markdown",
   "metadata": {},
   "source": [
    "## IV. Graphiques des différents indicateurs intraday"
   ]
  },
  {
   "cell_type": "markdown",
   "metadata": {},
   "source": [
    "### 1. Création d'un vecteur heures de la journée"
   ]
  },
  {
   "cell_type": "code",
   "execution_count": 61,
   "metadata": {
    "collapsed": false
   },
   "outputs": [],
   "source": [
    "Time = np.linspace(8,16.5,102)"
   ]
  },
  {
   "cell_type": "markdown",
   "metadata": {},
   "source": [
    "### 2. Courbes de volume en % pour comparer les différents actifs"
   ]
  },
  {
   "cell_type": "markdown",
   "metadata": {},
   "source": [
    "On doit faire la somme par tranche de 5 minutes des volumes traités puis renormaliser par le volume total."
   ]
  },
  {
   "cell_type": "code",
   "execution_count": 83,
   "metadata": {
    "collapsed": false
   },
   "outputs": [
    {
     "data": {
      "text/plain": [
       "ts_market\n",
       "2014-10-28 08:00:00    0.018561\n",
       "Freq: 5T, Name: qty, dtype: float64"
      ]
     },
     "execution_count": 83,
     "metadata": {},
     "output_type": "execute_result"
    }
   ],
   "source": [
    "CourbVolume1 = df_trades1['qty'].resample('5Min',how='sum')\n",
    "CourbVolume1 = CourbVolume1/CourbVolume1.sum()\n",
    "CourbVolume1.head(1)"
   ]
  },
  {
   "cell_type": "code",
   "execution_count": 71,
   "metadata": {
    "collapsed": false
   },
   "outputs": [
    {
     "data": {
      "text/plain": [
       "ts_market\n",
       "2014-10-28 16:25:00    0.03601\n",
       "Freq: 5T, Name: qty, dtype: float64"
      ]
     },
     "execution_count": 71,
     "metadata": {},
     "output_type": "execute_result"
    }
   ],
   "source": [
    "CourbVolume1.tail(1)"
   ]
  },
  {
   "cell_type": "markdown",
   "metadata": {},
   "source": [
    "On obtient alors le graphique suivant"
   ]
  },
  {
   "cell_type": "code",
   "execution_count": 63,
   "metadata": {
    "collapsed": false
   },
   "outputs": [
    {
     "data": {
      "text/plain": [
       "(8, 16.5)"
      ]
     },
     "execution_count": 63,
     "metadata": {},
     "output_type": "execute_result"
    },
    {
     "data": {
      "image/png": "[encoded data removed]",
      "text/plain": [
       "<matplotlib.figure.Figure at 0x10af50f10>"
      ]
     },
     "metadata": {},
     "output_type": "display_data"
    }
   ],
   "source": [
    "plt.step(Time,CourbVolume1)\n",
    "plt.xlim(8,16.5)"
   ]
  },
  {
   "cell_type": "markdown",
   "metadata": {},
   "source": [
    "Maintenant si on le fait pour tous les actifs, on a alors"
   ]
  },
  {
   "cell_type": "code",
   "execution_count": 64,
   "metadata": {
    "collapsed": false
   },
   "outputs": [
    {
     "data": {
      "text/plain": [
       "(8, 16.5)"
      ]
     },
     "execution_count": 64,
     "metadata": {},
     "output_type": "execute_result"
    },
    {
     "data": {
      "image/png": "[encoded data removed]",
      "text/plain": [
       "<matplotlib.figure.Figure at 0x114c1ead0>"
      ]
     },
     "metadata": {},
     "output_type": "display_data"
    }
   ],
   "source": [
    "CourbVolume2 = df_trades2['qty'].resample('5Min',how='sum')\n",
    "CourbVolume2 = CourbVolume2/CourbVolume2.sum()\n",
    "CourbVolume3 = df_trades3['qty'].resample('5Min',how='sum')\n",
    "CourbVolume3 = CourbVolume3/CourbVolume3.sum()\n",
    "CourbVolume4 = df_trades4['qty'].resample('5Min',how='sum')\n",
    "CourbVolume4 = CourbVolume4/CourbVolume4.sum()\n",
    "CourbVolume5 = df_trades5['qty'].resample('5Min',how='sum')\n",
    "CourbVolume5 = CourbVolume5/CourbVolume5.sum()\n",
    "CourbVolume6 = df_trades6['qty'].resample('5Min',how='sum')\n",
    "CourbVolume6 = CourbVolume6/CourbVolume6.sum()\n",
    "CourbVolume7 = df_trades7['qty'].resample('5Min',how='sum')\n",
    "CourbVolume7 = CourbVolume7/CourbVolume7.sum()\n",
    "CourbVolume8 = df_trades8['qty'].resample('5Min',how='sum')\n",
    "CourbVolume8 = CourbVolume8/CourbVolume8.sum()\n",
    "CourbVolume9 = df_trades9['qty'].resample('5Min',how='sum')\n",
    "CourbVolume9 = CourbVolume9/CourbVolume9.sum()\n",
    "plt.step(Time,CourbVolume1)\n",
    "plt.step(Time,CourbVolume2)\n",
    "plt.step(Time,CourbVolume3)\n",
    "plt.step(Time,CourbVolume4)\n",
    "plt.step(Time,CourbVolume5)\n",
    "plt.step(Time,CourbVolume6)\n",
    "plt.step(Time,CourbVolume7)\n",
    "plt.step(Time,CourbVolume8)\n",
    "plt.step(Time,CourbVolume9)\n",
    "plt.xlim(8,16.5)"
   ]
  },
  {
   "cell_type": "code",
   "execution_count": 85,
   "metadata": {
    "collapsed": false
   },
   "outputs": [
    {
     "data": {
      "text/plain": [
       "ts_market\n",
       "2014-11-21 08:00:00    0.008876\n",
       "2014-11-21 08:05:00    0.005838\n",
       "2014-11-21 08:10:00    0.004728\n",
       "2014-11-21 08:15:00    0.018104\n",
       "2014-11-21 08:20:00    0.019481\n",
       "Freq: 5T, Name: qty, dtype: float64"
      ]
     },
     "execution_count": 85,
     "metadata": {},
     "output_type": "execute_result"
    }
   ],
   "source": [
    "CourbVolume3.head()"
   ]
  },
  {
   "cell_type": "markdown",
   "metadata": {},
   "source": [
    "### 3. A faire \n",
    "\n",
    "En plus des courbes de volumes précédentes (toujours par tranche de 5 minutes), il faut faire et commenter les graphiques suivants\n",
    "\n",
    "\n",
    "* Répartition du nombre de trades ;\n",
    "\n",
    "\n",
    "* Prix moyen ;\n",
    "\n",
    "\n",
    "* Spread moyen ; \n",
    "\n",
    "\n",
    "* Volatilité ;\n",
    "\n",
    "\n",
    "* Imbalance ($|Q_{ask}-Q_{bid}|$ ou $Q_{ask}-Q_{bid}$ si vous voulez avoir le sens du déséquilibre) ;\n",
    "\n",
    "\n",
    "* Quantités best limits ($Q_{ask}+Q_{bid}$)."
   ]
  }
 ],
 "metadata": {
  "kernelspec": {
   "display_name": "Python 2",
   "language": "python",
   "name": "python2"
  },
  "language_info": {
   "codemirror_mode": {
    "name": "ipython",
    "version": 2
   },
   "file_extension": ".py",
   "mimetype": "text/x-python",
   "name": "python",
   "nbconvert_exporter": "python",
   "pygments_lexer": "ipython2",
   "version": "2.7.11"
  }
 },
 "nbformat": 4,
 "nbformat_minor": 0
}
