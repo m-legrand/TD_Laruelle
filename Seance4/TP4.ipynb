{
 "cells": [
  {
   "cell_type": "markdown",
   "metadata": {},
   "source": [
    "# TP4\n",
    "#### BROSSETTE Camille\n",
    "#### LEGRAND Maxime"
   ]
  },
  {
   "cell_type": "code",
   "execution_count": 1,
   "metadata": {
    "collapsed": true
   },
   "outputs": [],
   "source": [
    "import pandas as pd\n",
    "import numpy as np\n",
    "%matplotlib inline\n",
    "import matplotlib.pylab as plt\n",
    "from datetime import datetime"
   ]
  },
  {
   "cell_type": "markdown",
   "metadata": {},
   "source": [
    "#### Latent Order Book"
   ]
  },
  {
   "cell_type": "code",
   "execution_count": 2,
   "metadata": {
    "collapsed": false
   },
   "outputs": [],
   "source": [
    "data_LOB = {}\n",
    "data_LOB[1] = pd.read_pickle(\"./data4/sobs_info_720.h5\")\n",
    "data_LOB[2] = pd.read_pickle('./data4/sobs_info_1102.h5')\n",
    "data_LOB[3] = pd.read_pickle('./data4/sobs_info_1662.h5')\n",
    "data_LOB[4] = pd.read_pickle('./data4/sobs_info_1664.h5')\n",
    "data_LOB[5] = pd.read_pickle('./data4/sobs_info_2255.h5')\n",
    "data_LOB[6] = pd.read_pickle('./data4/sobs_info_2574.h5')\n",
    "data_LOB[7] = pd.read_pickle('./data4/sobs_info_2586.h5')\n",
    "data_LOB[8] = pd.read_pickle('./data4/sobs_info_5685.h5')\n",
    "data_LOB[9] = pd.read_pickle('./data4/sobs_info_8695864.h5')"
   ]
  },
  {
   "cell_type": "code",
   "execution_count": 3,
   "metadata": {
    "collapsed": false
   },
   "outputs": [],
   "source": [
    "for i in range(1,10):\n",
    "    dti = data_LOB[i]['ts_recv'].iloc[0]\n",
    "    data_LOB[i] = data_LOB[i][(data_LOB[i]['ts_recv'] > datetime(dti.year, dti.month, dti.day, 8, 0))\n",
    "                         &(data_LOB[i]['ts_recv'] < datetime(dti.year, dti.month, dti.day, 16, 30))]"
   ]
  },
  {
   "cell_type": "code",
   "execution_count": 4,
   "metadata": {
    "collapsed": true
   },
   "outputs": [],
   "source": [
    "LOB = {}\n",
    "for i in range(1,10):\n",
    "    LOB[i] = data_LOB[i].set_index('ts_recv')"
   ]
  },
  {
   "cell_type": "markdown",
   "metadata": {},
   "source": [
    "#### Trades"
   ]
  },
  {
   "cell_type": "code",
   "execution_count": 55,
   "metadata": {
    "collapsed": true
   },
   "outputs": [],
   "source": [
    "dft = {}\n",
    "dft[1] = pd.read_pickle(\"./data4/strades_info_720.h5\")\n",
    "dft[2] = pd.read_pickle('./data4/strades_info_1102.h5')\n",
    "dft[3] = pd.read_pickle('./data4/strades_info_1662.h5')\n",
    "dft[4] = pd.read_pickle('./data4/strades_info_1664.h5')\n",
    "dft[5] = pd.read_pickle('./data4/strades_info_2255.h5')\n",
    "dft[6] = pd.read_pickle('./data4/strades_info_2574.h5')\n",
    "dft[7] = pd.read_pickle('./data4/strades_info_2586.h5')\n",
    "dft[8] = pd.read_pickle('./data4/strades_info_5685.h5')\n",
    "dft[9] = pd.read_pickle('./data4/strades_info_8695864.h5')"
   ]
  },
  {
   "cell_type": "code",
   "execution_count": 56,
   "metadata": {
    "collapsed": true
   },
   "outputs": [],
   "source": [
    "J=5"
   ]
  },
  {
   "cell_type": "code",
   "execution_count": 57,
   "metadata": {
    "collapsed": false
   },
   "outputs": [],
   "source": [
    "for i in range(1,10):\n",
    "    dti = dft[i]['ts_market'].iloc[0]\n",
    "    dft[i] = dft[i][(dft[i]['bid'] < dft[i]['ask'])\n",
    "                    &(dft[i]['bid'] != 0)\n",
    "                    &(dft[i]['bid'] != 999999)\n",
    "                    &(dft[i]['ask'] != 0)\n",
    "                    &(dft[i]['ask'] != 999999)\n",
    "                    &(dft[i]['source'] == 'LSE')\n",
    "                    &(dft[i]['volume'] != 0)\n",
    "                    &(dft[i]['qty'] != 0)\n",
    "                    &(dft[i]['side'] != 'U')]\n",
    "    if i==2:\n",
    "        dft[i] = dft[i][(dft[i]['ts_market'] > datetime(dti.year, dti.month, dti.day, 7, 0))\n",
    "                         &(dft[i]['ts_market'] < datetime(dti.year, dti.month, dti.day, 15, 30))]\n",
    "    else:\n",
    "        dft[i] = dft[i][(dft[i]['ts_market'] > datetime(dti.year, dti.month, dti.day, 8, 0))\n",
    "                         &(dft[i]['ts_market'] < datetime(dti.year, dti.month, dti.day, 16, 30))]"
   ]
  },
  {
   "cell_type": "code",
   "execution_count": 58,
   "metadata": {
    "collapsed": false
   },
   "outputs": [],
   "source": [
    "tick = [0.05, 0.05, 0.1, 0.01, 0.05, 0.1, 0.1, 0.1, 0.05]"
   ]
  },
  {
   "cell_type": "code",
   "execution_count": 59,
   "metadata": {
    "collapsed": true
   },
   "outputs": [],
   "source": [
    "for i in range(1,10):\n",
    "    dft[i]['bid1']=dft[i]['bid']-tick[i-1]\n",
    "    dft[i]['bid2']=dft[i]['bid']-2*tick[i-1]\n",
    "    dft[i]['ask1']=dft[i]['ask']+tick[i-1]\n",
    "    dft[i]['ask2']=dft[i]['ask']+2*tick[i-1]"
   ]
  },
  {
   "cell_type": "code",
   "execution_count": 60,
   "metadata": {
    "collapsed": false
   },
   "outputs": [],
   "source": [
    "trades = {}\n",
    "for i in range(1,10):\n",
    "    trades[i] = dft[i].set_index('ts_market')"
   ]
  },
  {
   "cell_type": "markdown",
   "metadata": {},
   "source": [
    "## Passive Orders and Probability of Execution\n",
    "### Probability of Execution"
   ]
  },
  {
   "cell_type": "code",
   "execution_count": 61,
   "metadata": {
    "collapsed": false
   },
   "outputs": [],
   "source": [
    "def Bid_proba_ex(Trades, Lob, time_step):\n",
    "    Bid_dist = ['bid', 'bid1', 'bid2']\n",
    "    \n",
    "    Bid = np.array([Lob[Bid_dist[0]].resample(time_step, how='first'),\n",
    "                    Lob[Bid_dist[1]].resample(time_step, how='first'),\n",
    "                    Lob[Bid_dist[2]].resample(time_step, how='first')])\n",
    "                    \n",
    "    Trade = Trades['price'].resample(time_step, how='min')\n",
    "    \n",
    "    res = np.array([[(Trade[i]<Bid[0][i]) for i in range(len(Bid[0]))],\n",
    "                   [(Trade[i]<Bid[1][i]) for i in range(len(Bid[1]))],\n",
    "                   [(Trade[i]<Bid[2][i]) for i in range(len(Bid[2]))]])\n",
    "    resf = np.array([res[0].mean(),\n",
    "                     res[1].mean(),\n",
    "                     res[2].mean()])\n",
    "    \n",
    "    return resf    "
   ]
  },
  {
   "cell_type": "code",
   "execution_count": 62,
   "metadata": {
    "collapsed": true
   },
   "outputs": [],
   "source": [
    "def Ask_proba_ex(Trades, Lob, time_step):\n",
    "    Ask_dist = ['ask', 'ask1', 'ask2']\n",
    "    \n",
    "    Ask = np.array([Lob[Ask_dist[0]].resample(time_step, how='first'),\n",
    "                    Lob[Ask_dist[1]].resample(time_step, how='first'),\n",
    "                    Lob[Ask_dist[2]].resample(time_step, how='first')])\n",
    "                    \n",
    "    Trade = Trades['price'].resample(time_step, how='max')\n",
    "    \n",
    "    res = np.array([[(Trade[i]>Ask[0][i]) for i in range(len(Ask[0]))],\n",
    "                   [(Trade[i]>Ask[1][i]) for i in range(len(Ask[1]))],\n",
    "                   [(Trade[i]>Ask[2][i]) for i in range(len(Ask[2]))]])\n",
    "    resf = np.array([res[0].mean(),\n",
    "                     res[1].mean(),\n",
    "                     res[2].mean()])\n",
    "    \n",
    "    return resf"
   ]
  },
  {
   "cell_type": "code",
   "execution_count": 63,
   "metadata": {
    "collapsed": true
   },
   "outputs": [],
   "source": [
    "J=1\n",
    "t0=30\n",
    "T=150\n",
    "dt=30"
   ]
  },
  {
   "cell_type": "code",
   "execution_count": 64,
   "metadata": {
    "collapsed": false
   },
   "outputs": [],
   "source": [
    "P_Bid = {}\n",
    "for s in range(t0,T,dt):\n",
    "    P_Bid[s] = Bid_proba_ex(trades[J], trades[J], (str(s) + 's'))"
   ]
  },
  {
   "cell_type": "code",
   "execution_count": 65,
   "metadata": {
    "collapsed": false
   },
   "outputs": [
    {
     "data": {
      "image/png": "[encoded data removed]",
      "text/plain": [
       "<matplotlib.figure.Figure at 0x2103cd44d30>"
      ]
     },
     "metadata": {},
     "output_type": "display_data"
    }
   ],
   "source": [
    "for s in range(t0,T,dt):\n",
    "    plt.plot(P_Bid[s]/P_Bid[s].sum(), label = (str(s) + 's'))\n",
    "    \n",
    "plt.title('Proba exec')\n",
    "plt.xlabel('bid bid1 bid2')\n",
    "plt.legend()\n",
    "\n",
    "plt.show()\n"
   ]
  },
  {
   "cell_type": "markdown",
   "metadata": {
    "collapsed": true
   },
   "source": [
    "ç doit se rapprocher d'une exp qd le pas tend vers 0.."
   ]
  },
  {
   "cell_type": "code",
   "execution_count": 66,
   "metadata": {
    "collapsed": true
   },
   "outputs": [],
   "source": [
    "P_Ask = {}\n",
    "for s in range(t0,T,dt):\n",
    "    P_Ask[s] = Ask_proba_ex(trades[J], trades[J], (str(s) + 's'))"
   ]
  },
  {
   "cell_type": "code",
   "execution_count": 67,
   "metadata": {
    "collapsed": false
   },
   "outputs": [
    {
     "data": {
      "image/png": "[encoded data removed]",
      "text/plain": [
       "<matplotlib.figure.Figure at 0x2103cccff98>"
      ]
     },
     "metadata": {},
     "output_type": "display_data"
    }
   ],
   "source": [
    "for s in range(t0,T,dt):\n",
    "    plt.plot(P_Ask[s]/P_Ask[s].sum(), label = (str(s) + 's'))\n",
    "    \n",
    "plt.title('Proba Ask exec')\n",
    "plt.xlabel('ask ask1 ask2')\n",
    "plt.legend()\n",
    "\n",
    "plt.show()\n"
   ]
  },
  {
   "cell_type": "markdown",
   "metadata": {},
   "source": [
    "en ayant suivit les instructions du mail , c'est beaucoup mieux !!! on oublie donc les données LOB! \n",
    "\n",
    "je changerai la def de la focntion si on garde cette methode .\n",
    "\n",
    "our l'instant j'ai juste changé l'argument LOB <- Trades\n"
   ]
  },
  {
   "cell_type": "markdown",
   "metadata": {
    "collapsed": true
   },
   "source": [
    "# Fillrate"
   ]
  },
  {
   "cell_type": "code",
   "execution_count": 68,
   "metadata": {
    "collapsed": false,
    "scrolled": true
   },
   "outputs": [
    {
     "data": {
      "text/html": [
       "<div>\n",
       "<table border=\"1\" class=\"dataframe\">\n",
       "  <thead>\n",
       "    <tr style=\"text-align: right;\">\n",
       "      <th></th>\n",
       "      <th>provider</th>\n",
       "      <th>source</th>\n",
       "      <th>ts_market</th>\n",
       "      <th>qty</th>\n",
       "      <th>price</th>\n",
       "      <th>side</th>\n",
       "      <th>type</th>\n",
       "      <th>volume</th>\n",
       "      <th>bid_size</th>\n",
       "      <th>bid</th>\n",
       "      <th>ask</th>\n",
       "      <th>ask_size</th>\n",
       "      <th>cmp_name</th>\n",
       "      <th>bid1</th>\n",
       "      <th>bid2</th>\n",
       "      <th>ask1</th>\n",
       "      <th>ask2</th>\n",
       "    </tr>\n",
       "  </thead>\n",
       "  <tbody>\n",
       "    <tr>\n",
       "      <th>10</th>\n",
       "      <td>NOMURA</td>\n",
       "      <td>LSE</td>\n",
       "      <td>2014-11-05 08:00:11.066</td>\n",
       "      <td>3179970</td>\n",
       "      <td>207.00</td>\n",
       "      <td>?</td>\n",
       "      <td></td>\n",
       "      <td>3179970</td>\n",
       "      <td>12028</td>\n",
       "      <td>207.00</td>\n",
       "      <td>207.05</td>\n",
       "      <td>7500</td>\n",
       "      <td>Vodafone Group PLC</td>\n",
       "      <td>206.95</td>\n",
       "      <td>206.90</td>\n",
       "      <td>207.10</td>\n",
       "      <td>207.15</td>\n",
       "    </tr>\n",
       "    <tr>\n",
       "      <th>65</th>\n",
       "      <td>NOMURA</td>\n",
       "      <td>LSE</td>\n",
       "      <td>2014-11-05 08:00:12.282</td>\n",
       "      <td>4704</td>\n",
       "      <td>207.00</td>\n",
       "      <td>A</td>\n",
       "      <td></td>\n",
       "      <td>3184674</td>\n",
       "      <td>5284</td>\n",
       "      <td>206.65</td>\n",
       "      <td>207.00</td>\n",
       "      <td>26067</td>\n",
       "      <td>Vodafone Group PLC</td>\n",
       "      <td>206.60</td>\n",
       "      <td>206.55</td>\n",
       "      <td>207.05</td>\n",
       "      <td>207.10</td>\n",
       "    </tr>\n",
       "    <tr>\n",
       "      <th>78</th>\n",
       "      <td>NOMURA</td>\n",
       "      <td>LSE</td>\n",
       "      <td>2014-11-05 08:00:12.283</td>\n",
       "      <td>4000</td>\n",
       "      <td>206.55</td>\n",
       "      <td>B</td>\n",
       "      <td></td>\n",
       "      <td>3188674</td>\n",
       "      <td>4000</td>\n",
       "      <td>206.55</td>\n",
       "      <td>207.00</td>\n",
       "      <td>15296</td>\n",
       "      <td>Vodafone Group PLC</td>\n",
       "      <td>206.50</td>\n",
       "      <td>206.45</td>\n",
       "      <td>207.05</td>\n",
       "      <td>207.10</td>\n",
       "    </tr>\n",
       "    <tr>\n",
       "      <th>80</th>\n",
       "      <td>NOMURA</td>\n",
       "      <td>LSE</td>\n",
       "      <td>2014-11-05 08:00:12.718</td>\n",
       "      <td>3744</td>\n",
       "      <td>206.95</td>\n",
       "      <td>A</td>\n",
       "      <td></td>\n",
       "      <td>3192418</td>\n",
       "      <td>5284</td>\n",
       "      <td>206.35</td>\n",
       "      <td>206.95</td>\n",
       "      <td>5753</td>\n",
       "      <td>Vodafone Group PLC</td>\n",
       "      <td>206.30</td>\n",
       "      <td>206.25</td>\n",
       "      <td>207.00</td>\n",
       "      <td>207.05</td>\n",
       "    </tr>\n",
       "    <tr>\n",
       "      <th>81</th>\n",
       "      <td>NOMURA</td>\n",
       "      <td>LSE</td>\n",
       "      <td>2014-11-05 08:00:12.718</td>\n",
       "      <td>2009</td>\n",
       "      <td>206.95</td>\n",
       "      <td>A</td>\n",
       "      <td></td>\n",
       "      <td>3194427</td>\n",
       "      <td>5284</td>\n",
       "      <td>206.35</td>\n",
       "      <td>206.95</td>\n",
       "      <td>2009</td>\n",
       "      <td>Vodafone Group PLC</td>\n",
       "      <td>206.30</td>\n",
       "      <td>206.25</td>\n",
       "      <td>207.00</td>\n",
       "      <td>207.05</td>\n",
       "    </tr>\n",
       "  </tbody>\n",
       "</table>\n",
       "</div>"
      ],
      "text/plain": [
       "   provider source               ts_market      qty   price side type  \\\n",
       "10   NOMURA    LSE 2014-11-05 08:00:11.066  3179970  207.00    ?        \n",
       "65   NOMURA    LSE 2014-11-05 08:00:12.282     4704  207.00    A        \n",
       "78   NOMURA    LSE 2014-11-05 08:00:12.283     4000  206.55    B        \n",
       "80   NOMURA    LSE 2014-11-05 08:00:12.718     3744  206.95    A        \n",
       "81   NOMURA    LSE 2014-11-05 08:00:12.718     2009  206.95    A        \n",
       "\n",
       "     volume  bid_size     bid     ask  ask_size            cmp_name    bid1  \\\n",
       "10  3179970     12028  207.00  207.05      7500  Vodafone Group PLC  206.95   \n",
       "65  3184674      5284  206.65  207.00     26067  Vodafone Group PLC  206.60   \n",
       "78  3188674      4000  206.55  207.00     15296  Vodafone Group PLC  206.50   \n",
       "80  3192418      5284  206.35  206.95      5753  Vodafone Group PLC  206.30   \n",
       "81  3194427      5284  206.35  206.95      2009  Vodafone Group PLC  206.30   \n",
       "\n",
       "      bid2    ask1    ask2  \n",
       "10  206.90  207.10  207.15  \n",
       "65  206.55  207.05  207.10  \n",
       "78  206.45  207.05  207.10  \n",
       "80  206.25  207.00  207.05  \n",
       "81  206.25  207.00  207.05  "
      ]
     },
     "execution_count": 68,
     "metadata": {},
     "output_type": "execute_result"
    }
   ],
   "source": [
    "dft[1].head(5)"
   ]
  },
  {
   "cell_type": "code",
   "execution_count": 69,
   "metadata": {
    "collapsed": false
   },
   "outputs": [
    {
     "data": {
      "text/plain": [
       "[<matplotlib.lines.Line2D at 0x2103d872940>]"
      ]
     },
     "execution_count": 69,
     "metadata": {},
     "output_type": "execute_result"
    },
    {
     "data": {
      "image/png": "[encoded data removed]",
      "text/plain": [
       "<matplotlib.figure.Figure at 0x2103d894668>"
      ]
     },
     "metadata": {},
     "output_type": "display_data"
    }
   ],
   "source": [
    "dti = dft[5]['ts_market'].iloc[0]\n",
    "tt = dft[5][(dft[5]['ts_market'] > datetime(dti.year, dti.month, dti.day, 8, 0))\n",
    "                         &(dft[i]['ts_market'] < datetime(dti.year, dti.month, dti.day, 14, 30))]\n",
    "test = tt.set_index('ts_market')\n",
    "plt.plot(test['price'])"
   ]
  },
  {
   "cell_type": "code",
   "execution_count": 141,
   "metadata": {
    "collapsed": false
   },
   "outputs": [],
   "source": [
    "def Fillrate(Trades, dist, time_step, time_waiting):\n",
    "    Bid_dist = ['bid', 'bid1', 'bid2']\n",
    "    Bid = Trades[Bid_dist[dist]].resample(time_step, how = 'first')\n",
    "    Trade = Trades['price'].resample(time_step, how = 'min')\n",
    "    \n",
    "    Res = Trade\n",
    "    for i in range(len(Bid)):\n",
    "        Res[i] = (Trade[i]<Bid[i])\n",
    "    \n",
    "    res = Res.resample(time_waiting, how = 'sum')    \n",
    "    \n",
    "    return res"
   ]
  },
  {
   "cell_type": "markdown",
   "metadata": {},
   "source": [
    "en fait si on insere un ordre on change la dynamique du carnet d'irdre, du coup on ne sait plus ce qu'il se passe... on va faire semblant de ne pas le modifier en 'insérant\" des petis ordres. on veut savoir si notre ordre aurait été consommé en le mettant dans une file d'attente pendant une periode de temps.\n",
    "\n",
    "le fillrate cherche à savoir combien d'ordres on peut mettre et se faire consommer "
   ]
  },
  {
   "cell_type": "code",
   "execution_count": 169,
   "metadata": {
    "collapsed": false
   },
   "outputs": [],
   "source": [
    "J=1 #choix de l'asset\n",
    "Waiting_time = ['30s', '1Min', '2Min']\n",
    "dt = '1s'\n",
    "distance = 1\n",
    "\n",
    "fillrate = {}\n",
    "time = {}\n",
    "price = {}\n",
    "\n",
    "for t in range(len(Waiting_time)):\n",
    "    fillrate[t] = Fillrate(trades[J], distance, dt, Waiting_time[t])\n",
    "    time[t] =  np.linspace(8,16.5,len(fillrate[t]))\n",
    "    price[t] = trades[J]['price'].resample( Waiting_time[t], how = 'min')"
   ]
  },
  {
   "cell_type": "code",
   "execution_count": 170,
   "metadata": {
    "collapsed": false
   },
   "outputs": [
    {
     "data": {
      "image/png": "[encoded data removed]",
      "text/plain": [
       "<matplotlib.figure.Figure at 0x2103f782748>"
      ]
     },
     "metadata": {},
     "output_type": "display_data"
    },
    {
     "data": {
      "image/png": "[encoded data removed]",
      "text/plain": [
       "<matplotlib.figure.Figure at 0x2103f5c4438>"
      ]
     },
     "metadata": {},
     "output_type": "display_data"
    },
    {
     "data": {
      "image/png": "[encoded data removed]",
      "text/plain": [
       "<matplotlib.figure.Figure at 0x2103f37e898>"
      ]
     },
     "metadata": {},
     "output_type": "display_data"
    },
    {
     "data": {
      "image/png": "[encoded data removed]",
      "text/plain": [
       "<matplotlib.figure.Figure at 0x2103f3e1748>"
      ]
     },
     "metadata": {},
     "output_type": "display_data"
    }
   ],
   "source": [
    "plt.plot(time[0], price[0], color='blue')\n",
    "plt.title('Price')\n",
    "plt.show()\n",
    "\n",
    "color = ['green', 'red', 'blue']\n",
    "for t in range(len(Waiting_time)):\n",
    "    plt.plot( time[t], fillrate[t], 'o', label=Waiting_time[t], color=color[t])\n",
    "    plt.title('Fillrate')\n",
    "    plt.legend()\n",
    "    plt.show()\n"
   ]
  },
  {
   "cell_type": "code",
   "execution_count": null,
   "metadata": {
    "collapsed": true
   },
   "outputs": [],
   "source": []
  }
 ],
 "metadata": {
  "kernelspec": {
   "display_name": "Python 3",
   "language": "python",
   "name": "python3"
  },
  "language_info": {
   "codemirror_mode": {
    "name": "ipython",
    "version": 3
   },
   "file_extension": ".py",
   "mimetype": "text/x-python",
   "name": "python",
   "nbconvert_exporter": "python",
   "pygments_lexer": "ipython3",
   "version": "3.5.1"
  }
 },
 "nbformat": 4,
 "nbformat_minor": 0
}
